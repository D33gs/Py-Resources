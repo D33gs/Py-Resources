{
 "cells": [
  {
   "cell_type": "code",
   "execution_count": 1,
   "metadata": {},
   "outputs": [],
   "source": [
    "import pandas as pd\n",
    "import numpy as np\n",
    "import os\n",
    "import datetime\n",
    "from sklearn.linear_model import LinearRegression"
   ]
  },
  {
   "cell_type": "code",
   "execution_count": 10,
   "metadata": {},
   "outputs": [
    {
     "data": {
      "text/html": [
       "<div>\n",
       "<style scoped>\n",
       "    .dataframe tbody tr th:only-of-type {\n",
       "        vertical-align: middle;\n",
       "    }\n",
       "\n",
       "    .dataframe tbody tr th {\n",
       "        vertical-align: top;\n",
       "    }\n",
       "\n",
       "    .dataframe thead th {\n",
       "        text-align: right;\n",
       "    }\n",
       "</style>\n",
       "<table border=\"1\" class=\"dataframe\">\n",
       "  <thead>\n",
       "    <tr style=\"text-align: right;\">\n",
       "      <th></th>\n",
       "      <th>agcy</th>\n",
       "      <th>cpn</th>\n",
       "      <th>bb</th>\n",
       "      <th>px</th>\n",
       "      <th>sd</th>\n",
       "    </tr>\n",
       "  </thead>\n",
       "  <tbody>\n",
       "    <tr>\n",
       "      <th>0</th>\n",
       "      <td>FGCI</td>\n",
       "      <td>2.0</td>\n",
       "      <td>G0</td>\n",
       "      <td>94.140625</td>\n",
       "      <td>12/18/2018</td>\n",
       "    </tr>\n",
       "    <tr>\n",
       "      <th>1</th>\n",
       "      <td>FGCI</td>\n",
       "      <td>2.5</td>\n",
       "      <td>G0</td>\n",
       "      <td>96.781250</td>\n",
       "      <td>12/18/2018</td>\n",
       "    </tr>\n",
       "    <tr>\n",
       "      <th>2</th>\n",
       "      <td>FGCI</td>\n",
       "      <td>3.0</td>\n",
       "      <td>G0</td>\n",
       "      <td>98.843750</td>\n",
       "      <td>12/18/2018</td>\n",
       "    </tr>\n",
       "    <tr>\n",
       "      <th>3</th>\n",
       "      <td>FGCI</td>\n",
       "      <td>3.5</td>\n",
       "      <td>G0</td>\n",
       "      <td>100.546875</td>\n",
       "      <td>12/18/2018</td>\n",
       "    </tr>\n",
       "    <tr>\n",
       "      <th>4</th>\n",
       "      <td>FGCI</td>\n",
       "      <td>4.0</td>\n",
       "      <td>G0</td>\n",
       "      <td>101.953125</td>\n",
       "      <td>12/18/2018</td>\n",
       "    </tr>\n",
       "  </tbody>\n",
       "</table>\n",
       "</div>"
      ],
      "text/plain": [
       "   agcy  cpn  bb          px          sd\n",
       "0  FGCI  2.0  G0   94.140625  12/18/2018\n",
       "1  FGCI  2.5  G0   96.781250  12/18/2018\n",
       "2  FGCI  3.0  G0   98.843750  12/18/2018\n",
       "3  FGCI  3.5  G0  100.546875  12/18/2018\n",
       "4  FGCI  4.0  G0  101.953125  12/18/2018"
      ]
     },
     "execution_count": 10,
     "metadata": {},
     "output_type": "execute_result"
    }
   ],
   "source": [
    "pf = pd.read_csv(r'\\\\DEN-FS01\\Home\\kzimmerman\\Desktop\\df.csv')\n",
    "pf.head()"
   ]
  },
  {
   "cell_type": "markdown",
   "metadata": {},
   "source": [
    "## F30"
   ]
  },
  {
   "cell_type": "code",
   "execution_count": 11,
   "metadata": {
    "code_folding": []
   },
   "outputs": [],
   "source": [
    "def model(df, delta):\n",
    "    df.sd = pd.to_datetime(df.sd)\n",
    "    today = pd.to_datetime(datetime.date.today())\n",
    "    day = np.timedelta64(1,'D')\n",
    "    df['date_delta'] = df.sd.sub(today).div(day)\n",
    "    \n",
    "    y = df[['px']].values\n",
    "    X = df[['date_delta']].values\n",
    "    return np.squeeze(LinearRegression().fit(X, y).predict(delta))\n",
    "\n",
    "def group_predictions(df, dd):\n",
    "    #sd = pd.to_datetime(sd)\n",
    "    df.sd = pd.to_datetime(df.sd)\n",
    "    day = np.timedelta64(1, 'D') # timedelta\n",
    "    today = pd.to_datetime(datetime.date.today())\n",
    "    #mn = df.sd.min()             # timestamp\n",
    "    df['date_delta'] = df.sd.sub(today).div(day) # float\n",
    "    \n",
    "    dd = float(dd) # float\n",
    "        \n",
    "    return df.groupby(['agcy','cpn']).apply(model, delta=dd)"
   ]
  },
  {
   "cell_type": "code",
   "execution_count": 19,
   "metadata": {},
   "outputs": [
    {
     "data": {
      "text/html": [
       "<div>\n",
       "<style scoped>\n",
       "    .dataframe tbody tr th:only-of-type {\n",
       "        vertical-align: middle;\n",
       "    }\n",
       "\n",
       "    .dataframe tbody tr th {\n",
       "        vertical-align: top;\n",
       "    }\n",
       "\n",
       "    .dataframe thead th {\n",
       "        text-align: right;\n",
       "    }\n",
       "</style>\n",
       "<table border=\"1\" class=\"dataframe\">\n",
       "  <thead>\n",
       "    <tr style=\"text-align: right;\">\n",
       "      <th></th>\n",
       "      <th>agcy</th>\n",
       "      <th>cpn</th>\n",
       "      <th>px</th>\n",
       "      <th>bb</th>\n",
       "      <th>sd</th>\n",
       "    </tr>\n",
       "  </thead>\n",
       "  <tbody>\n",
       "    <tr>\n",
       "      <th>0</th>\n",
       "      <td>FGCI</td>\n",
       "      <td>2.0</td>\n",
       "      <td>94.08854166666667</td>\n",
       "      <td>F30</td>\n",
       "      <td>2019-01-12</td>\n",
       "    </tr>\n",
       "    <tr>\n",
       "      <th>1</th>\n",
       "      <td>FGCI</td>\n",
       "      <td>2.5</td>\n",
       "      <td>96.76822916666667</td>\n",
       "      <td>F30</td>\n",
       "      <td>2019-01-12</td>\n",
       "    </tr>\n",
       "    <tr>\n",
       "      <th>2</th>\n",
       "      <td>FGCI</td>\n",
       "      <td>3.0</td>\n",
       "      <td>98.81770833333333</td>\n",
       "      <td>F30</td>\n",
       "      <td>2019-01-12</td>\n",
       "    </tr>\n",
       "    <tr>\n",
       "      <th>3</th>\n",
       "      <td>FGCI</td>\n",
       "      <td>3.5</td>\n",
       "      <td>100.48177083333333</td>\n",
       "      <td>F30</td>\n",
       "      <td>2019-01-12</td>\n",
       "    </tr>\n",
       "    <tr>\n",
       "      <th>4</th>\n",
       "      <td>FGCI</td>\n",
       "      <td>4.0</td>\n",
       "      <td>101.80989583333333</td>\n",
       "      <td>F30</td>\n",
       "      <td>2019-01-12</td>\n",
       "    </tr>\n",
       "  </tbody>\n",
       "</table>\n",
       "</div>"
      ],
      "text/plain": [
       "   agcy  cpn                  px   bb          sd\n",
       "0  FGCI  2.0   94.08854166666667  F30  2019-01-12\n",
       "1  FGCI  2.5   96.76822916666667  F30  2019-01-12\n",
       "2  FGCI  3.0   98.81770833333333  F30  2019-01-12\n",
       "3  FGCI  3.5  100.48177083333333  F30  2019-01-12\n",
       "4  FGCI  4.0  101.80989583333333  F30  2019-01-12"
      ]
     },
     "execution_count": 19,
     "metadata": {},
     "output_type": "execute_result"
    }
   ],
   "source": [
    "fwd = group_predictions(pf,30)\n",
    "fwd = pd.DataFrame(fwd,index=fwd.index)\n",
    "fwd = (fwd.assign(bb=lambda x: 'F30')\n",
    "      .assign(sd=lambda x: datetime.date.today() +pd.Timedelta(30,unit='d'))\n",
    "      .rename(columns={fwd.columns[0]:'px'}))\n",
    "fwd.reset_index(inplace=True)\n",
    "#del fwd['data_delta']\n",
    "fwd.head()"
   ]
  },
  {
   "cell_type": "code",
   "execution_count": 20,
   "metadata": {},
   "outputs": [
    {
     "data": {
      "text/html": [
       "<div>\n",
       "<style scoped>\n",
       "    .dataframe tbody tr th:only-of-type {\n",
       "        vertical-align: middle;\n",
       "    }\n",
       "\n",
       "    .dataframe tbody tr th {\n",
       "        vertical-align: top;\n",
       "    }\n",
       "\n",
       "    .dataframe thead th {\n",
       "        text-align: right;\n",
       "    }\n",
       "</style>\n",
       "<table border=\"1\" class=\"dataframe\">\n",
       "  <thead>\n",
       "    <tr style=\"text-align: right;\">\n",
       "      <th></th>\n",
       "      <th>agcy</th>\n",
       "      <th>cpn</th>\n",
       "      <th>px</th>\n",
       "      <th>bb</th>\n",
       "      <th>sd</th>\n",
       "    </tr>\n",
       "  </thead>\n",
       "  <tbody>\n",
       "    <tr>\n",
       "      <th>0</th>\n",
       "      <td>FGCI</td>\n",
       "      <td>2.0</td>\n",
       "      <td>94.1885</td>\n",
       "      <td>F30</td>\n",
       "      <td>2019-01-12</td>\n",
       "    </tr>\n",
       "    <tr>\n",
       "      <th>1</th>\n",
       "      <td>FGCI</td>\n",
       "      <td>2.5</td>\n",
       "      <td>96.8932</td>\n",
       "      <td>F30</td>\n",
       "      <td>2019-01-12</td>\n",
       "    </tr>\n",
       "    <tr>\n",
       "      <th>2</th>\n",
       "      <td>FGCI</td>\n",
       "      <td>3.0</td>\n",
       "      <td>98.9677</td>\n",
       "      <td>F30</td>\n",
       "      <td>2019-01-12</td>\n",
       "    </tr>\n",
       "    <tr>\n",
       "      <th>3</th>\n",
       "      <td>FGCI</td>\n",
       "      <td>3.5</td>\n",
       "      <td>100.657</td>\n",
       "      <td>F30</td>\n",
       "      <td>2019-01-12</td>\n",
       "    </tr>\n",
       "    <tr>\n",
       "      <th>4</th>\n",
       "      <td>FGCI</td>\n",
       "      <td>4.0</td>\n",
       "      <td>102.01</td>\n",
       "      <td>F30</td>\n",
       "      <td>2019-01-12</td>\n",
       "    </tr>\n",
       "  </tbody>\n",
       "</table>\n",
       "</div>"
      ],
      "text/plain": [
       "   agcy  cpn       px   bb          sd\n",
       "0  FGCI  2.0  94.1885  F30  2019-01-12\n",
       "1  FGCI  2.5  96.8932  F30  2019-01-12\n",
       "2  FGCI  3.0  98.9677  F30  2019-01-12\n",
       "3  FGCI  3.5  100.657  F30  2019-01-12\n",
       "4  FGCI  4.0   102.01  F30  2019-01-12"
      ]
     },
     "execution_count": 20,
     "metadata": {},
     "output_type": "execute_result"
    }
   ],
   "source": [
    "delay=18\n",
    "fwd['px']= fwd['px']+(fwd['cpn']*delay/360)\n",
    "fwd.head()"
   ]
  },
  {
   "cell_type": "code",
   "execution_count": 27,
   "metadata": {},
   "outputs": [
    {
     "data": {
      "text/html": [
       "<div>\n",
       "<style scoped>\n",
       "    .dataframe tbody tr th:only-of-type {\n",
       "        vertical-align: middle;\n",
       "    }\n",
       "\n",
       "    .dataframe tbody tr th {\n",
       "        vertical-align: top;\n",
       "    }\n",
       "\n",
       "    .dataframe thead th {\n",
       "        text-align: right;\n",
       "    }\n",
       "</style>\n",
       "<table border=\"1\" class=\"dataframe\">\n",
       "  <thead>\n",
       "    <tr style=\"text-align: right;\">\n",
       "      <th></th>\n",
       "      <th>agcy</th>\n",
       "      <th>bb</th>\n",
       "      <th>cpn</th>\n",
       "      <th>px</th>\n",
       "      <th>sd</th>\n",
       "    </tr>\n",
       "  </thead>\n",
       "  <tbody>\n",
       "    <tr>\n",
       "      <th>0</th>\n",
       "      <td>FGCI</td>\n",
       "      <td>G0</td>\n",
       "      <td>2.0</td>\n",
       "      <td>94.1406</td>\n",
       "      <td>2018-12-18 00:00:00</td>\n",
       "    </tr>\n",
       "    <tr>\n",
       "      <th>1</th>\n",
       "      <td>FGCI</td>\n",
       "      <td>G0</td>\n",
       "      <td>2.5</td>\n",
       "      <td>96.7812</td>\n",
       "      <td>2018-12-18 00:00:00</td>\n",
       "    </tr>\n",
       "    <tr>\n",
       "      <th>2</th>\n",
       "      <td>FGCI</td>\n",
       "      <td>G0</td>\n",
       "      <td>3.0</td>\n",
       "      <td>98.8438</td>\n",
       "      <td>2018-12-18 00:00:00</td>\n",
       "    </tr>\n",
       "    <tr>\n",
       "      <th>3</th>\n",
       "      <td>FGCI</td>\n",
       "      <td>G0</td>\n",
       "      <td>3.5</td>\n",
       "      <td>100.547</td>\n",
       "      <td>2018-12-18 00:00:00</td>\n",
       "    </tr>\n",
       "    <tr>\n",
       "      <th>4</th>\n",
       "      <td>FGCI</td>\n",
       "      <td>G0</td>\n",
       "      <td>4.0</td>\n",
       "      <td>101.953</td>\n",
       "      <td>2018-12-18 00:00:00</td>\n",
       "    </tr>\n",
       "  </tbody>\n",
       "</table>\n",
       "</div>"
      ],
      "text/plain": [
       "   agcy  bb  cpn       px                   sd\n",
       "0  FGCI  G0  2.0  94.1406  2018-12-18 00:00:00\n",
       "1  FGCI  G0  2.5  96.7812  2018-12-18 00:00:00\n",
       "2  FGCI  G0  3.0  98.8438  2018-12-18 00:00:00\n",
       "3  FGCI  G0  3.5  100.547  2018-12-18 00:00:00\n",
       "4  FGCI  G0  4.0  101.953  2018-12-18 00:00:00"
      ]
     },
     "execution_count": 27,
     "metadata": {},
     "output_type": "execute_result"
    }
   ],
   "source": [
    "#del pf['date_delta']\n",
    "data = pd.concat([pf,fwd],sort=True)\n",
    "data.head()"
   ]
  },
  {
   "cell_type": "raw",
   "metadata": {},
   "source": [
    "y = df[['px']].values\n",
    "X = df[['date_delta']].values\n",
    "return np.squeeze(LinearRegression().fit(X, y).predict(delta))\n",
    "df.groupby(['agcy','cpn']).apply(model, delta=dd)"
   ]
  },
  {
   "cell_type": "code",
   "execution_count": 34,
   "metadata": {},
   "outputs": [],
   "source": [
    "df = data"
   ]
  },
  {
   "cell_type": "markdown",
   "metadata": {
    "heading_collapsed": true
   },
   "source": [
    "## Curr cpn pred"
   ]
  },
  {
   "cell_type": "code",
   "execution_count": 167,
   "metadata": {
    "hidden": true
   },
   "outputs": [],
   "source": [
    "def linterp(df,y,x,pred):\n",
    "    y=df[[y]]\n",
    "    x=df[[x]]\n",
    "    pred = pd.to_numeric(pred)\n",
    "    return np.squeeze(LinearRegression().fit(x, y).predict(pred))"
   ]
  },
  {
   "cell_type": "code",
   "execution_count": 177,
   "metadata": {
    "hidden": true
   },
   "outputs": [
    {
     "data": {
      "text/plain": [
       "agcy\n",
       "FGCI     3.3919199382741922\n",
       "FGLMC     3.814854378975543\n",
       "FNCI      3.376043184155236\n",
       "FNCL     3.8636779691443763\n",
       "G2SF     3.6776497725552524\n",
       "dtype: object"
      ]
     },
     "execution_count": 177,
     "metadata": {},
     "output_type": "execute_result"
    }
   ],
   "source": [
    "df.groupby('agcy').apply(linterp,'cpn','px',100)"
   ]
  },
  {
   "cell_type": "code",
   "execution_count": 148,
   "metadata": {
    "hidden": true
   },
   "outputs": [],
   "source": [
    "cc = df.groupby('agcy').apply(linterp,'cpn','px',100)"
   ]
  },
  {
   "cell_type": "code",
   "execution_count": 178,
   "metadata": {
    "hidden": true
   },
   "outputs": [
    {
     "data": {
      "text/plain": [
       "agcy\n",
       "FGCI     3.3919199382741922\n",
       "FGLMC     3.814854378975543\n",
       "FNCI      3.376043184155236\n",
       "FNCL     3.8636779691443763\n",
       "G2SF     3.6776497725552524\n",
       "dtype: object"
      ]
     },
     "execution_count": 178,
     "metadata": {},
     "output_type": "execute_result"
    }
   ],
   "source": [
    "cd = df.groupby('agcy').apply(linterp,'cpn','px',100)\n",
    "cd"
   ]
  },
  {
   "cell_type": "markdown",
   "metadata": {
    "heading_collapsed": true
   },
   "source": [
    "## High/Low cpn"
   ]
  },
  {
   "cell_type": "code",
   "execution_count": 112,
   "metadata": {
    "hidden": true
   },
   "outputs": [],
   "source": [
    "def highc(x, base=0.5):\n",
    "    return round(base*math.ceil(x/base),2)"
   ]
  },
  {
   "cell_type": "code",
   "execution_count": 97,
   "metadata": {
    "hidden": true
   },
   "outputs": [],
   "source": [
    "def lowc(x, base=0.5):\n",
    "    return round(base*round(x//base),2)"
   ]
  },
  {
   "cell_type": "code",
   "execution_count": 114,
   "metadata": {
    "hidden": true
   },
   "outputs": [
    {
     "data": {
      "text/plain": [
       "(3.0, 3.5)"
      ]
     },
     "execution_count": 114,
     "metadata": {},
     "output_type": "execute_result"
    }
   ],
   "source": [
    "lowc(3.4222),highc(3.42222)"
   ]
  },
  {
   "cell_type": "code",
   "execution_count": 159,
   "metadata": {
    "hidden": true
   },
   "outputs": [
    {
     "data": {
      "text/plain": [
       "4.0"
      ]
     },
     "execution_count": 159,
     "metadata": {},
     "output_type": "execute_result"
    }
   ],
   "source": [
    "highc(cc.iloc[1])"
   ]
  },
  {
   "cell_type": "code",
   "execution_count": 109,
   "metadata": {
    "hidden": true
   },
   "outputs": [
    {
     "data": {
      "text/plain": [
       "3.5"
      ]
     },
     "execution_count": 109,
     "metadata": {},
     "output_type": "execute_result"
    }
   ],
   "source": [
    "math.ceil(3.1/.5)*.5"
   ]
  },
  {
   "cell_type": "code",
   "execution_count": 111,
   "metadata": {
    "hidden": true
   },
   "outputs": [
    {
     "data": {
      "text/plain": [
       "3.0"
      ]
     },
     "execution_count": 111,
     "metadata": {},
     "output_type": "execute_result"
    }
   ],
   "source": [
    "(3.1//.5)*.5"
   ]
  },
  {
   "cell_type": "code",
   "execution_count": 165,
   "metadata": {
    "hidden": true
   },
   "outputs": [],
   "source": [
    "for c in cc:\n",
    "    highc = [c]\n",
    "    round(0.5*math.ceil(c/0.5),2)"
   ]
  },
  {
   "cell_type": "code",
   "execution_count": 152,
   "metadata": {
    "hidden": true
   },
   "outputs": [
    {
     "data": {
      "text/plain": [
       "((5,), pandas.core.series.Series, dtype('O'))"
      ]
     },
     "execution_count": 152,
     "metadata": {},
     "output_type": "execute_result"
    }
   ],
   "source": [
    "cc.shape, type(cc), cc.dtypes"
   ]
  },
  {
   "cell_type": "raw",
   "metadata": {
    "hidden": true
   },
   "source": [
    "fd = (cc.assign(lowc=lambda x: round(round(x//0.5)*0.5,2))\n",
    "     .assign(highc=lambda x: round(0.5*np.ceil(x/0.5)))\n",
    "     )\n"
   ]
  }
 ],
 "metadata": {
  "kernelspec": {
   "display_name": "Python 3",
   "language": "python",
   "name": "python3"
  },
  "language_info": {
   "codemirror_mode": {
    "name": "ipython",
    "version": 3
   },
   "file_extension": ".py",
   "mimetype": "text/x-python",
   "name": "python",
   "nbconvert_exporter": "python",
   "pygments_lexer": "ipython3",
   "version": "3.6.5"
  },
  "toc": {
   "base_numbering": 1,
   "nav_menu": {},
   "number_sections": true,
   "sideBar": true,
   "skip_h1_title": true,
   "title_cell": "Table of Contents",
   "title_sidebar": "Contents",
   "toc_cell": false,
   "toc_position": {
    "height": "calc(100% - 180px)",
    "left": "10px",
    "top": "150px",
    "width": "165px"
   },
   "toc_section_display": true,
   "toc_window_display": false
  }
 },
 "nbformat": 4,
 "nbformat_minor": 2
}
