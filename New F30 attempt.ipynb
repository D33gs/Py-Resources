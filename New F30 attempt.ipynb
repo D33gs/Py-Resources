{
 "cells": [
  {
   "cell_type": "code",
   "execution_count": 1,
   "metadata": {},
   "outputs": [],
   "source": [
    "import pandas as pd\n",
    "import numpy as np\n",
    "import os\n",
    "import datetime\n",
    "from sklearn.linear_model import LinearRegression"
   ]
  },
  {
   "cell_type": "code",
   "execution_count": 5,
   "metadata": {},
   "outputs": [
    {
     "data": {
      "text/plain": [
       "(2018-12-27    1.694834\n",
       " 2018-12-28    0.510951\n",
       " 2018-12-29    0.162297\n",
       " 2018-12-30   -0.503651\n",
       " 2018-12-31    0.736517\n",
       " Freq: D, dtype: float64,\n",
       " pandas.core.indexes.datetimes.DatetimeIndex,\n",
       " dtype('float64'))"
      ]
     },
     "execution_count": 5,
     "metadata": {},
     "output_type": "execute_result"
    }
   ],
   "source": [
    "rng = pd.date_range('12/1/2018',periods=31,freq='D')\n",
    "ts = pd.Series(np.random.randn(len(rng)),index=rng)\n",
    "ts.tail(5), type(ts.index), ts.dtypes"
   ]
  },
  {
   "cell_type": "code",
   "execution_count": 6,
   "metadata": {},
   "outputs": [
    {
     "data": {
      "text/plain": [
       "False"
      ]
     },
     "execution_count": 6,
     "metadata": {},
     "output_type": "execute_result"
    }
   ],
   "source": [
    "pd.core.dtypes.common.is_datetime64_any_dtype(ts)"
   ]
  },
  {
   "cell_type": "code",
   "execution_count": 7,
   "metadata": {},
   "outputs": [
    {
     "data": {
      "text/plain": [
       "True"
      ]
     },
     "execution_count": 7,
     "metadata": {},
     "output_type": "execute_result"
    }
   ],
   "source": [
    "pd.core.dtypes.common.is_datetime64_any_dtype(rng)"
   ]
  },
  {
   "cell_type": "markdown",
   "metadata": {},
   "source": [
    "## df"
   ]
  },
  {
   "cell_type": "code",
   "execution_count": 72,
   "metadata": {},
   "outputs": [],
   "source": [
    "df = pd.read_csv(r'\\\\DEN-FS01\\Home\\kzimmerman\\Desktop\\df.csv')\n"
   ]
  },
  {
   "cell_type": "code",
   "execution_count": 11,
   "metadata": {},
   "outputs": [
    {
     "data": {
      "text/html": [
       "<div>\n",
       "<style scoped>\n",
       "    .dataframe tbody tr th:only-of-type {\n",
       "        vertical-align: middle;\n",
       "    }\n",
       "\n",
       "    .dataframe tbody tr th {\n",
       "        vertical-align: top;\n",
       "    }\n",
       "\n",
       "    .dataframe thead th {\n",
       "        text-align: right;\n",
       "    }\n",
       "</style>\n",
       "<table border=\"1\" class=\"dataframe\">\n",
       "  <thead>\n",
       "    <tr style=\"text-align: right;\">\n",
       "      <th></th>\n",
       "      <th>agcy</th>\n",
       "      <th>cpn</th>\n",
       "      <th>bb</th>\n",
       "      <th>px</th>\n",
       "      <th>sd</th>\n",
       "    </tr>\n",
       "  </thead>\n",
       "  <tbody>\n",
       "    <tr>\n",
       "      <th>0</th>\n",
       "      <td>FGCI</td>\n",
       "      <td>2.0</td>\n",
       "      <td>G0</td>\n",
       "      <td>94.140625</td>\n",
       "      <td>12/18/2018</td>\n",
       "    </tr>\n",
       "    <tr>\n",
       "      <th>1</th>\n",
       "      <td>FGCI</td>\n",
       "      <td>2.5</td>\n",
       "      <td>G0</td>\n",
       "      <td>96.781250</td>\n",
       "      <td>12/18/2018</td>\n",
       "    </tr>\n",
       "    <tr>\n",
       "      <th>2</th>\n",
       "      <td>FGCI</td>\n",
       "      <td>3.0</td>\n",
       "      <td>G0</td>\n",
       "      <td>98.843750</td>\n",
       "      <td>12/18/2018</td>\n",
       "    </tr>\n",
       "    <tr>\n",
       "      <th>3</th>\n",
       "      <td>FGCI</td>\n",
       "      <td>3.5</td>\n",
       "      <td>G0</td>\n",
       "      <td>100.546875</td>\n",
       "      <td>12/18/2018</td>\n",
       "    </tr>\n",
       "    <tr>\n",
       "      <th>4</th>\n",
       "      <td>FGCI</td>\n",
       "      <td>4.0</td>\n",
       "      <td>G0</td>\n",
       "      <td>101.953125</td>\n",
       "      <td>12/18/2018</td>\n",
       "    </tr>\n",
       "  </tbody>\n",
       "</table>\n",
       "</div>"
      ],
      "text/plain": [
       "   agcy  cpn  bb          px          sd\n",
       "0  FGCI  2.0  G0   94.140625  12/18/2018\n",
       "1  FGCI  2.5  G0   96.781250  12/18/2018\n",
       "2  FGCI  3.0  G0   98.843750  12/18/2018\n",
       "3  FGCI  3.5  G0  100.546875  12/18/2018\n",
       "4  FGCI  4.0  G0  101.953125  12/18/2018"
      ]
     },
     "execution_count": 11,
     "metadata": {},
     "output_type": "execute_result"
    }
   ],
   "source": [
    "df.head()"
   ]
  },
  {
   "cell_type": "code",
   "execution_count": 12,
   "metadata": {},
   "outputs": [],
   "source": [
    "def linterp(df,y,x,pred):\n",
    "    \n",
    "    \n",
    "    y=df[[y]]\n",
    "    x=df[[x]]\n",
    "    pred = pd.to_numeric(pred)\n",
    "    return np.squeeze(LinearRegression().fit(x, y).predict(pred))"
   ]
  },
  {
   "cell_type": "code",
   "execution_count": 13,
   "metadata": {},
   "outputs": [
    {
     "data": {
      "text/plain": [
       "dtype('O')"
      ]
     },
     "execution_count": 13,
     "metadata": {},
     "output_type": "execute_result"
    }
   ],
   "source": [
    "df['sd'].dtypes"
   ]
  },
  {
   "cell_type": "code",
   "execution_count": 18,
   "metadata": {},
   "outputs": [
    {
     "data": {
      "text/html": [
       "<div>\n",
       "<style scoped>\n",
       "    .dataframe tbody tr th:only-of-type {\n",
       "        vertical-align: middle;\n",
       "    }\n",
       "\n",
       "    .dataframe tbody tr th {\n",
       "        vertical-align: top;\n",
       "    }\n",
       "\n",
       "    .dataframe thead th {\n",
       "        text-align: right;\n",
       "    }\n",
       "</style>\n",
       "<table border=\"1\" class=\"dataframe\">\n",
       "  <thead>\n",
       "    <tr style=\"text-align: right;\">\n",
       "      <th></th>\n",
       "      <th>agcy</th>\n",
       "      <th>cpn</th>\n",
       "      <th>bb</th>\n",
       "      <th>px</th>\n",
       "      <th>sd</th>\n",
       "    </tr>\n",
       "  </thead>\n",
       "  <tbody>\n",
       "    <tr>\n",
       "      <th>0</th>\n",
       "      <td>FGCI</td>\n",
       "      <td>2.0</td>\n",
       "      <td>G0</td>\n",
       "      <td>94.140625</td>\n",
       "      <td>2018-12-18</td>\n",
       "    </tr>\n",
       "    <tr>\n",
       "      <th>1</th>\n",
       "      <td>FGCI</td>\n",
       "      <td>2.5</td>\n",
       "      <td>G0</td>\n",
       "      <td>96.781250</td>\n",
       "      <td>2018-12-18</td>\n",
       "    </tr>\n",
       "    <tr>\n",
       "      <th>2</th>\n",
       "      <td>FGCI</td>\n",
       "      <td>3.0</td>\n",
       "      <td>G0</td>\n",
       "      <td>98.843750</td>\n",
       "      <td>2018-12-18</td>\n",
       "    </tr>\n",
       "  </tbody>\n",
       "</table>\n",
       "</div>"
      ],
      "text/plain": [
       "   agcy  cpn  bb         px         sd\n",
       "0  FGCI  2.0  G0  94.140625 2018-12-18\n",
       "1  FGCI  2.5  G0  96.781250 2018-12-18\n",
       "2  FGCI  3.0  G0  98.843750 2018-12-18"
      ]
     },
     "execution_count": 18,
     "metadata": {},
     "output_type": "execute_result"
    }
   ],
   "source": [
    "df2 = pd.read_csv(r'\\\\DEN-FS01\\Home\\kzimmerman\\Desktop\\df.csv',parse_dates=[4])\n",
    "df2.head(3)"
   ]
  },
  {
   "cell_type": "code",
   "execution_count": 80,
   "metadata": {},
   "outputs": [
    {
     "data": {
      "text/plain": [
       "(dtype('<M8[ns]'), pandas.core.series.Series)"
      ]
     },
     "execution_count": 80,
     "metadata": {},
     "output_type": "execute_result"
    }
   ],
   "source": [
    "df['sd'].dtypes, type(df['sd'])"
   ]
  },
  {
   "cell_type": "code",
   "execution_count": 76,
   "metadata": {},
   "outputs": [
    {
     "data": {
      "text/plain": [
       "dtype('<M8[ns]')"
      ]
     },
     "execution_count": 76,
     "metadata": {},
     "output_type": "execute_result"
    }
   ],
   "source": [
    "df['sd'] = pd.to_datetime(df['sd'])\n",
    "\n",
    "df['sd'].dtypes"
   ]
  },
  {
   "cell_type": "code",
   "execution_count": 49,
   "metadata": {},
   "outputs": [
    {
     "data": {
      "text/plain": [
       "True"
      ]
     },
     "execution_count": 49,
     "metadata": {},
     "output_type": "execute_result"
    }
   ],
   "source": [
    "x = df['sd']\n",
    "pd.core.dtypes.common.is_datetime64_any_dtype(x)"
   ]
  },
  {
   "cell_type": "code",
   "execution_count": 38,
   "metadata": {},
   "outputs": [
    {
     "data": {
      "text/plain": [
       "pandas.core.series.Series"
      ]
     },
     "execution_count": 38,
     "metadata": {},
     "output_type": "execute_result"
    }
   ],
   "source": [
    "type(x)"
   ]
  },
  {
   "cell_type": "code",
   "execution_count": 50,
   "metadata": {},
   "outputs": [],
   "source": [
    "if pd.core.dtypes.common.is_datetime64_any_dtype(x):\n",
    "    today = pd.to_datetime(datetime.date.today())\n",
    "    day = np.timedelta64(1,'D')\n",
    "    x = (x-today)/day\n",
    "else:\n",
    "    x"
   ]
  },
  {
   "cell_type": "code",
   "execution_count": 81,
   "metadata": {},
   "outputs": [],
   "source": [
    "def fwd(df,y,x,pred):\n",
    "    if pd.core.dtypes.common.is_datetime64_any_dtype(x):\n",
    "        today = pd.to_datetime(datetime.date.today())\n",
    "        day = np.timedelta64(1,'D')\n",
    "        df[x] = (x-today)/day\n",
    "    else:\n",
    "        x\n",
    "    x=df[[x]]    \n",
    "    y=df[[y]]\n",
    "   \n",
    "    pred = pd.to_numeric(pred)\n",
    "    return np.squeeze(LinearRegression().fit(x, y).predict(pred))"
   ]
  },
  {
   "cell_type": "code",
   "execution_count": 54,
   "metadata": {},
   "outputs": [
    {
     "data": {
      "text/plain": [
       "(pandas.core.series.Series, dtype('float64'))"
      ]
     },
     "execution_count": 54,
     "metadata": {},
     "output_type": "execute_result"
    }
   ],
   "source": [
    "type(x), x.dtypes"
   ]
  },
  {
   "cell_type": "code",
   "execution_count": 57,
   "metadata": {},
   "outputs": [
    {
     "data": {
      "text/plain": [
       "Index(['agcy', 'cpn', 'bb', 'px', 'sd'], dtype='object')"
      ]
     },
     "execution_count": 57,
     "metadata": {},
     "output_type": "execute_result"
    }
   ],
   "source": [
    "df.columns"
   ]
  },
  {
   "cell_type": "code",
   "execution_count": 82,
   "metadata": {},
   "outputs": [
    {
     "data": {
      "text/plain": [
       "agcy   cpn\n",
       "FGCI   2.0            131.396875\n",
       "       2.5           106.0953125\n",
       "       3.0            117.471875\n",
       "       3.5           147.1171875\n",
       "       4.0    204.40781249999998\n",
       "FGLMC  2.5        136.6318359375\n",
       "       3.0          130.99609375\n",
       "       3.5         151.095703125\n",
       "       4.0         153.455078125\n",
       "       4.5           172.9609375\n",
       "FNCI   2.0            150.040625\n",
       "       2.5           124.7390625\n",
       "       3.0           164.2453125\n",
       "       3.5              137.7875\n",
       "       4.0           148.5546875\n",
       "FNCL   2.5        136.6630859375\n",
       "       3.0          131.01171875\n",
       "       3.5         151.095703125\n",
       "       4.0        162.1845703125\n",
       "       4.5        181.7060546875\n",
       "       5.0           174.5703125\n",
       "G2SF   2.5    141.93482142857144\n",
       "       3.0    136.85714285714286\n",
       "       3.5    155.35625000000002\n",
       "       4.0    173.52723214285714\n",
       "       4.5             103.34375\n",
       "dtype: object"
      ]
     },
     "execution_count": 82,
     "metadata": {},
     "output_type": "execute_result"
    }
   ],
   "source": [
    "df.groupby(['agcy','cpn']).apply(fwd,'px','sd',30)"
   ]
  },
  {
   "cell_type": "code",
   "execution_count": null,
   "metadata": {},
   "outputs": [],
   "source": []
  },
  {
   "cell_type": "code",
   "execution_count": null,
   "metadata": {},
   "outputs": [],
   "source": []
  }
 ],
 "metadata": {
  "kernelspec": {
   "display_name": "Python 3",
   "language": "python",
   "name": "python3"
  },
  "language_info": {
   "codemirror_mode": {
    "name": "ipython",
    "version": 3
   },
   "file_extension": ".py",
   "mimetype": "text/x-python",
   "name": "python",
   "nbconvert_exporter": "python",
   "pygments_lexer": "ipython3",
   "version": "3.6.5"
  },
  "toc": {
   "base_numbering": 1,
   "nav_menu": {},
   "number_sections": true,
   "sideBar": false,
   "skip_h1_title": true,
   "title_cell": "Table of Contents",
   "title_sidebar": "Contents",
   "toc_cell": false,
   "toc_position": {},
   "toc_section_display": true,
   "toc_window_display": false
  }
 },
 "nbformat": 4,
 "nbformat_minor": 2
}
